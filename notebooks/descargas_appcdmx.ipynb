{
 "cells": [
  {
   "cell_type": "code",
   "execution_count": 1,
   "id": "bb407af9",
   "metadata": {},
   "outputs": [],
   "source": [
    "import polars as pl\n",
    "import matplotlib.pyplot as plt\n",
    "import seaborn as sns\n",
    "from sklearn.preprocessing import LabelEncoder\n",
    "\n",
    "import warnings\n",
    "warnings.filterwarnings('ignore')\n",
    "\n",
    "sns.set_theme()"
   ]
  },
  {
   "cell_type": "code",
   "execution_count": 2,
   "id": "7aff4c86",
   "metadata": {},
   "outputs": [],
   "source": [
    "# Cargamos el dataset\n",
    "df = pl.read_csv(\"../DATASET/descargas_app_cdmx_05082022.csv\")"
   ]
  },
  {
   "cell_type": "code",
   "execution_count": 3,
   "id": "1a84bfe8",
   "metadata": {},
   "outputs": [
    {
     "data": {
      "text/plain": [
       "Schema([('descargas', Int64), ('fecha', String), ('sist_op', String)])"
      ]
     },
     "execution_count": 3,
     "metadata": {},
     "output_type": "execute_result"
    }
   ],
   "source": [
    "df.schema"
   ]
  },
  {
   "cell_type": "code",
   "execution_count": 4,
   "id": "1670dcb8",
   "metadata": {},
   "outputs": [
    {
     "name": "stdout",
     "output_type": "stream",
     "text": [
      "<class 'pandas.core.frame.DataFrame'>\n",
      "RangeIndex: 2455 entries, 0 to 2454\n",
      "Data columns (total 3 columns):\n",
      " #   Column     Non-Null Count  Dtype \n",
      "---  ------     --------------  ----- \n",
      " 0   descargas  2455 non-null   int64 \n",
      " 1   fecha      2455 non-null   object\n",
      " 2   sist_op    2455 non-null   object\n",
      "dtypes: int64(1), object(2)\n",
      "memory usage: 57.7+ KB\n"
     ]
    }
   ],
   "source": [
    "df.to_pandas().info()"
   ]
  },
  {
   "cell_type": "code",
   "execution_count": 5,
   "id": "e32c8b8b",
   "metadata": {},
   "outputs": [
    {
     "data": {
      "text/html": [
       "<div><style>\n",
       ".dataframe > thead > tr,\n",
       ".dataframe > tbody > tr {\n",
       "  text-align: right;\n",
       "  white-space: pre-wrap;\n",
       "}\n",
       "</style>\n",
       "<small>shape: (9, 4)</small><table border=\"1\" class=\"dataframe\"><thead><tr><th>statistic</th><th>descargas</th><th>fecha</th><th>sist_op</th></tr><tr><td>str</td><td>f64</td><td>str</td><td>str</td></tr></thead><tbody><tr><td>&quot;count&quot;</td><td>2455.0</td><td>&quot;2455&quot;</td><td>&quot;2455&quot;</td></tr><tr><td>&quot;null_count&quot;</td><td>0.0</td><td>&quot;0&quot;</td><td>&quot;0&quot;</td></tr><tr><td>&quot;mean&quot;</td><td>1561.807332</td><td>null</td><td>null</td></tr><tr><td>&quot;std&quot;</td><td>2349.040146</td><td>null</td><td>null</td></tr><tr><td>&quot;min&quot;</td><td>4.0</td><td>&quot;2019-03-23&quot;</td><td>&quot;Android&quot;</td></tr><tr><td>&quot;25%&quot;</td><td>282.0</td><td>null</td><td>null</td></tr><tr><td>&quot;50%&quot;</td><td>671.0</td><td>null</td><td>null</td></tr><tr><td>&quot;75%&quot;</td><td>2611.0</td><td>null</td><td>null</td></tr><tr><td>&quot;max&quot;</td><td>48415.0</td><td>&quot;2022-08-05&quot;</td><td>&quot;iOS&quot;</td></tr></tbody></table></div>"
      ],
      "text/plain": [
       "shape: (9, 4)\n",
       "┌────────────┬─────────────┬────────────┬─────────┐\n",
       "│ statistic  ┆ descargas   ┆ fecha      ┆ sist_op │\n",
       "│ ---        ┆ ---         ┆ ---        ┆ ---     │\n",
       "│ str        ┆ f64         ┆ str        ┆ str     │\n",
       "╞════════════╪═════════════╪════════════╪═════════╡\n",
       "│ count      ┆ 2455.0      ┆ 2455       ┆ 2455    │\n",
       "│ null_count ┆ 0.0         ┆ 0          ┆ 0       │\n",
       "│ mean       ┆ 1561.807332 ┆ null       ┆ null    │\n",
       "│ std        ┆ 2349.040146 ┆ null       ┆ null    │\n",
       "│ min        ┆ 4.0         ┆ 2019-03-23 ┆ Android │\n",
       "│ 25%        ┆ 282.0       ┆ null       ┆ null    │\n",
       "│ 50%        ┆ 671.0       ┆ null       ┆ null    │\n",
       "│ 75%        ┆ 2611.0      ┆ null       ┆ null    │\n",
       "│ max        ┆ 48415.0     ┆ 2022-08-05 ┆ iOS     │\n",
       "└────────────┴─────────────┴────────────┴─────────┘"
      ]
     },
     "execution_count": 5,
     "metadata": {},
     "output_type": "execute_result"
    }
   ],
   "source": [
    "df.describe()"
   ]
  },
  {
   "cell_type": "code",
   "execution_count": 6,
   "id": "0c020c0b",
   "metadata": {},
   "outputs": [],
   "source": [
    "# LabelEncoder para codificar la variable categórica\n",
    "le = LabelEncoder()"
   ]
  },
  {
   "cell_type": "code",
   "execution_count": 7,
   "id": "ac39549d",
   "metadata": {},
   "outputs": [],
   "source": [
    "# Convertimos el tipo fecha a datetime\n",
    "df = df.with_columns(\n",
    "    pl.col(\"fecha\").str.strptime(pl.Date, \"%Y-%m-%d\"),\n",
    "    sist_op = le.fit_transform(df[\"sist_op\"]),\n",
    "    sist_op_lbl = df[\"sist_op\"]\n",
    ")"
   ]
  },
  {
   "cell_type": "code",
   "execution_count": 8,
   "id": "ee8ca63d",
   "metadata": {},
   "outputs": [
    {
     "data": {
      "text/html": [
       "<div><style>\n",
       ".dataframe > thead > tr,\n",
       ".dataframe > tbody > tr {\n",
       "  text-align: right;\n",
       "  white-space: pre-wrap;\n",
       "}\n",
       "</style>\n",
       "<small>shape: (9, 5)</small><table border=\"1\" class=\"dataframe\"><thead><tr><th>statistic</th><th>descargas</th><th>fecha</th><th>sist_op</th><th>sist_op_lbl</th></tr><tr><td>str</td><td>f64</td><td>str</td><td>f64</td><td>str</td></tr></thead><tbody><tr><td>&quot;count&quot;</td><td>2455.0</td><td>&quot;2455&quot;</td><td>2455.0</td><td>&quot;2455&quot;</td></tr><tr><td>&quot;null_count&quot;</td><td>0.0</td><td>&quot;0&quot;</td><td>0.0</td><td>&quot;0&quot;</td></tr><tr><td>&quot;mean&quot;</td><td>1561.807332</td><td>&quot;2020-11-29 17:48:07.331000&quot;</td><td>0.498167</td><td>null</td></tr><tr><td>&quot;std&quot;</td><td>2349.040146</td><td>null</td><td>0.500099</td><td>null</td></tr><tr><td>&quot;min&quot;</td><td>4.0</td><td>&quot;2019-03-23&quot;</td><td>0.0</td><td>&quot;Android&quot;</td></tr><tr><td>&quot;25%&quot;</td><td>282.0</td><td>&quot;2020-01-28&quot;</td><td>0.0</td><td>null</td></tr><tr><td>&quot;50%&quot;</td><td>671.0</td><td>&quot;2020-11-30&quot;</td><td>0.0</td><td>null</td></tr><tr><td>&quot;75%&quot;</td><td>2611.0</td><td>&quot;2021-10-03&quot;</td><td>1.0</td><td>null</td></tr><tr><td>&quot;max&quot;</td><td>48415.0</td><td>&quot;2022-08-05&quot;</td><td>1.0</td><td>&quot;iOS&quot;</td></tr></tbody></table></div>"
      ],
      "text/plain": [
       "shape: (9, 5)\n",
       "┌────────────┬─────────────┬────────────────────────────┬──────────┬─────────────┐\n",
       "│ statistic  ┆ descargas   ┆ fecha                      ┆ sist_op  ┆ sist_op_lbl │\n",
       "│ ---        ┆ ---         ┆ ---                        ┆ ---      ┆ ---         │\n",
       "│ str        ┆ f64         ┆ str                        ┆ f64      ┆ str         │\n",
       "╞════════════╪═════════════╪════════════════════════════╪══════════╪═════════════╡\n",
       "│ count      ┆ 2455.0      ┆ 2455                       ┆ 2455.0   ┆ 2455        │\n",
       "│ null_count ┆ 0.0         ┆ 0                          ┆ 0.0      ┆ 0           │\n",
       "│ mean       ┆ 1561.807332 ┆ 2020-11-29 17:48:07.331000 ┆ 0.498167 ┆ null        │\n",
       "│ std        ┆ 2349.040146 ┆ null                       ┆ 0.500099 ┆ null        │\n",
       "│ min        ┆ 4.0         ┆ 2019-03-23                 ┆ 0.0      ┆ Android     │\n",
       "│ 25%        ┆ 282.0       ┆ 2020-01-28                 ┆ 0.0      ┆ null        │\n",
       "│ 50%        ┆ 671.0       ┆ 2020-11-30                 ┆ 0.0      ┆ null        │\n",
       "│ 75%        ┆ 2611.0      ┆ 2021-10-03                 ┆ 1.0      ┆ null        │\n",
       "│ max        ┆ 48415.0     ┆ 2022-08-05                 ┆ 1.0      ┆ iOS         │\n",
       "└────────────┴─────────────┴────────────────────────────┴──────────┴─────────────┘"
      ]
     },
     "execution_count": 8,
     "metadata": {},
     "output_type": "execute_result"
    }
   ],
   "source": [
    "df.describe()"
   ]
  },
  {
   "cell_type": "code",
   "execution_count": 9,
   "id": "2f5b6e55",
   "metadata": {},
   "outputs": [
    {
     "data": {
      "text/plain": [
       "array(['Android', 'iOS'], dtype='<U7')"
      ]
     },
     "execution_count": 9,
     "metadata": {},
     "output_type": "execute_result"
    }
   ],
   "source": [
    "le.classes_"
   ]
  },
  {
   "cell_type": "code",
   "execution_count": 10,
   "id": "a9edd804",
   "metadata": {},
   "outputs": [
    {
     "data": {
      "text/html": [
       "<div><style>\n",
       ".dataframe > thead > tr,\n",
       ".dataframe > tbody > tr {\n",
       "  text-align: right;\n",
       "  white-space: pre-wrap;\n",
       "}\n",
       "</style>\n",
       "<small>shape: (5, 4)</small><table border=\"1\" class=\"dataframe\"><thead><tr><th>descargas</th><th>fecha</th><th>sist_op</th><th>sist_op_lbl</th></tr><tr><td>i64</td><td>date</td><td>i64</td><td>str</td></tr></thead><tbody><tr><td>23</td><td>2019-03-23</td><td>0</td><td>&quot;Android&quot;</td></tr><tr><td>395</td><td>2019-03-24</td><td>0</td><td>&quot;Android&quot;</td></tr><tr><td>825</td><td>2019-03-25</td><td>0</td><td>&quot;Android&quot;</td></tr><tr><td>448</td><td>2019-03-26</td><td>0</td><td>&quot;Android&quot;</td></tr><tr><td>316</td><td>2019-03-27</td><td>0</td><td>&quot;Android&quot;</td></tr></tbody></table></div>"
      ],
      "text/plain": [
       "shape: (5, 4)\n",
       "┌───────────┬────────────┬─────────┬─────────────┐\n",
       "│ descargas ┆ fecha      ┆ sist_op ┆ sist_op_lbl │\n",
       "│ ---       ┆ ---        ┆ ---     ┆ ---         │\n",
       "│ i64       ┆ date       ┆ i64     ┆ str         │\n",
       "╞═══════════╪════════════╪═════════╪═════════════╡\n",
       "│ 23        ┆ 2019-03-23 ┆ 0       ┆ Android     │\n",
       "│ 395       ┆ 2019-03-24 ┆ 0       ┆ Android     │\n",
       "│ 825       ┆ 2019-03-25 ┆ 0       ┆ Android     │\n",
       "│ 448       ┆ 2019-03-26 ┆ 0       ┆ Android     │\n",
       "│ 316       ┆ 2019-03-27 ┆ 0       ┆ Android     │\n",
       "└───────────┴────────────┴─────────┴─────────────┘"
      ]
     },
     "execution_count": 10,
     "metadata": {},
     "output_type": "execute_result"
    }
   ],
   "source": [
    "df.head()"
   ]
  },
  {
   "cell_type": "code",
   "execution_count": 11,
   "id": "188e96ed",
   "metadata": {},
   "outputs": [],
   "source": [
    "df_descargas = df.group_by(\n",
    "    \"sist_op_lbl\"\n",
    ").agg(\n",
    "    pl.col(\"descargas\").sum().alias(\"descargas\")\n",
    ")"
   ]
  },
  {
   "cell_type": "code",
   "execution_count": 12,
   "id": "1013cbaf",
   "metadata": {},
   "outputs": [
    {
     "data": {
      "image/png": "[encoded data removed]",
      "text/plain": [
       "<Figure size 1000x600 with 1 Axes>"
      ]
     },
     "metadata": {},
     "output_type": "display_data"
    }
   ],
   "source": [
    "# Visualizamos la variable categórica\n",
    "fig, ax = plt.subplots(figsize=(10, 6))\n",
    "g = sns.barplot(df_descargas, x=\"sist_op_lbl\", y=\"descargas\", hue=\"sist_op_lbl\", ax=ax, legend=True)\n",
    "g.set_title(\"Distribución de sistemas operativos\")\n",
    "g.set_xlabel(\"Sistema Operativo\")\n",
    "g.set_ylabel(\"Descargas\")\n",
    "plt.legend(title=\"Sistema Operativo\", loc='upper right')\n",
    "\n",
    "for i in ax.containers:\n",
    "    ax.bar_label(i,)\n",
    "    \n",
    "plt.show(g)"
   ]
  }
 ],
 "metadata": {
  "kernelspec": {
   "display_name": "Python 3",
   "language": "python",
   "name": "python3"
  },
  "language_info": {
   "codemirror_mode": {
    "name": "ipython",
    "version": 3
   },
   "file_extension": ".py",
   "mimetype": "text/x-python",
   "name": "python",
   "nbconvert_exporter": "python",
   "pygments_lexer": "ipython3",
   "version": "3.12.9"
  }
 },
 "nbformat": 4,
 "nbformat_minor": 5
}
